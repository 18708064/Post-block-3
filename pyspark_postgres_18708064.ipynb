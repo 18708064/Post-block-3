{
  "cells": [
    {
      "cell_type": "markdown",
      "metadata": {
        "id": "view-in-github",
        "colab_type": "text"
      },
      "source": [
        "<a href=\"https://colab.research.google.com/github/18708064/Post-block-3/blob/master/pyspark_postgres_18708064.ipynb\" target=\"_parent\"><img src=\"https://colab.research.google.com/assets/colab-badge.svg\" alt=\"Open In Colab\"/></a>"
      ]
    },
    {
      "cell_type": "markdown",
      "metadata": {
        "id": "8QbPsmEf6ljt"
      },
      "source": [
        "# Purpose\n",
        "\n",
        "Explore PySpark and the JDBC connection functionality to read from operational databases.\n",
        "\n",
        "In this notebook we will setup a PostgreSQL instance and populate it with the Pagila dataset. We will then connect to the database via a JDBC connector."
      ]
    },
    {
      "cell_type": "markdown",
      "metadata": {
        "id": "f-RHL4bg4u0_"
      },
      "source": [
        "# Setup\n",
        "\n",
        "## PostgreSQL\n",
        "\n",
        "Firstly, let's install postgres in the this Colab instance."
      ]
    },
    {
      "cell_type": "code",
      "execution_count": null,
      "metadata": {
        "colab": {
          "base_uri": "https://localhost:8080/"
        },
        "id": "qhmGVh22JcNo",
        "outputId": "a4fbd7d2-04db-4678-8abf-42f2e52cfa8d",
        "collapsed": true
      },
      "outputs": [
        {
          "output_type": "stream",
          "name": "stdout",
          "text": [
            "Reading package lists... Done\n",
            "Building dependency tree... Done\n",
            "Reading state information... Done\n",
            "postgresql is already the newest version (14+238).\n",
            "postgresql-contrib is already the newest version (14+238).\n",
            "0 upgraded, 0 newly installed, 0 to remove and 49 not upgraded.\n"
          ]
        }
      ],
      "source": [
        "!sudo apt install postgresql postgresql-contrib"
      ]
    },
    {
      "cell_type": "code",
      "execution_count": null,
      "metadata": {
        "colab": {
          "base_uri": "https://localhost:8080/"
        },
        "id": "ajhL0Z_-KK8r",
        "outputId": "c2b6238e-ba10-4e96-f977-3daf2128c159"
      },
      "outputs": [
        {
          "output_type": "stream",
          "name": "stdout",
          "text": [
            " * Starting PostgreSQL 14 database server\n",
            "   ...done.\n"
          ]
        }
      ],
      "source": [
        "!service postgresql start"
      ]
    },
    {
      "cell_type": "markdown",
      "metadata": {
        "id": "_P48P8Vt6Fm9"
      },
      "source": [
        "Create a user in Postgres ([stackoverflow](https://stackoverflow.com/questions/12720967/how-to-change-postgresql-user-password/12721020#12721020))\n"
      ]
    },
    {
      "cell_type": "code",
      "execution_count": null,
      "metadata": {
        "colab": {
          "base_uri": "https://localhost:8080/"
        },
        "id": "b25UVuzVNdKs",
        "outputId": "90f4de99-475c-4951-95a6-52d1e0c38483"
      },
      "outputs": [
        {
          "output_type": "stream",
          "name": "stdout",
          "text": [
            "ALTER ROLE\n"
          ]
        }
      ],
      "source": [
        "!sudo -u postgres psql -c \"ALTER USER postgres PASSWORD 'test';\""
      ]
    },
    {
      "cell_type": "markdown",
      "metadata": {
        "id": "JW1kucySWAKv"
      },
      "source": [
        "Store you database password in an environmental variable so that we need no type it in all the time (not advisable generally).\n",
        "\n",
        "We'll use the notebook magic `%end`"
      ]
    },
    {
      "cell_type": "code",
      "execution_count": null,
      "metadata": {
        "colab": {
          "base_uri": "https://localhost:8080/"
        },
        "id": "as0Zs9kL6PY0",
        "outputId": "c07bc953-466a-4e74-8d00-101adb314417"
      },
      "outputs": [
        {
          "output_type": "stream",
          "name": "stdout",
          "text": [
            "env: PGPASSWORD=test\n"
          ]
        }
      ],
      "source": [
        "%env PGPASSWORD=test"
      ]
    },
    {
      "cell_type": "markdown",
      "metadata": {
        "id": "LGqYbg366efu"
      },
      "source": [
        "## Pagila\n",
        "\n",
        "Now, let's populate the PostgreSQL database with the Pagila data from the tutorial."
      ]
    },
    {
      "cell_type": "code",
      "execution_count": null,
      "metadata": {
        "colab": {
          "base_uri": "https://localhost:8080/"
        },
        "id": "qICjoP_dKS8G",
        "outputId": "8a907f66-af4e-4ece-ce77-7ecbbe1211eb",
        "collapsed": true
      },
      "outputs": [
        {
          "output_type": "stream",
          "name": "stdout",
          "text": [
            "fatal: destination path 'pagila' already exists and is not an empty directory.\n"
          ]
        }
      ],
      "source": [
        "!git clone https://github.com/spatialedge-ai/pagila.git"
      ]
    },
    {
      "cell_type": "code",
      "execution_count": null,
      "metadata": {
        "colab": {
          "base_uri": "https://localhost:8080/"
        },
        "id": "xYHVKYqSMthy",
        "outputId": "a25eeb37-0b3a-44b1-96b0-5d4f932c1aee",
        "collapsed": true
      },
      "outputs": [
        {
          "output_type": "stream",
          "name": "stdout",
          "text": [
            "ERROR:  database \"pagila\" already exists\n"
          ]
        }
      ],
      "source": [
        "!psql -h localhost -U postgres -c \"create database pagila\""
      ]
    },
    {
      "cell_type": "code",
      "execution_count": null,
      "metadata": {
        "colab": {
          "base_uri": "https://localhost:8080/"
        },
        "id": "kfgNogz3MSq_",
        "outputId": "2eddcae5-6fe8-407a-9257-9b7c0aa9c890",
        "collapsed": true
      },
      "outputs": [
        {
          "output_type": "stream",
          "name": "stdout",
          "text": [
            "SET\n",
            "SET\n",
            "SET\n",
            "SET\n",
            "SET\n",
            " set_config \n",
            "------------\n",
            " \n",
            "(1 row)\n",
            "\n",
            "SET\n",
            "SET\n",
            "SET\n",
            "SET\n",
            "psql:pagila/pagila-schema.sql:29: ERROR:  type \"mpaa_rating\" already exists\n",
            "ALTER TYPE\n",
            "psql:pagila/pagila-schema.sql:39: ERROR:  type \"year\" already exists\n",
            "ALTER DOMAIN\n",
            "psql:pagila/pagila-schema.sql:56: ERROR:  function \"_group_concat\" already exists with same argument types\n",
            "ALTER FUNCTION\n",
            "psql:pagila/pagila-schema.sql:73: ERROR:  function \"film_in_stock\" already exists with same argument types\n",
            "ALTER FUNCTION\n",
            "psql:pagila/pagila-schema.sql:90: ERROR:  function \"film_not_in_stock\" already exists with same argument types\n",
            "ALTER FUNCTION\n",
            "psql:pagila/pagila-schema.sql:135: ERROR:  function \"get_customer_balance\" already exists with same argument types\n",
            "ALTER FUNCTION\n",
            "psql:pagila/pagila-schema.sql:157: ERROR:  function \"inventory_held_by_customer\" already exists with same argument types\n",
            "ALTER FUNCTION\n",
            "psql:pagila/pagila-schema.sql:194: ERROR:  function \"inventory_in_stock\" already exists with same argument types\n",
            "ALTER FUNCTION\n",
            "psql:pagila/pagila-schema.sql:212: ERROR:  function \"last_day\" already exists with same argument types\n",
            "ALTER FUNCTION\n",
            "psql:pagila/pagila-schema.sql:227: ERROR:  function \"last_updated\" already exists with same argument types\n",
            "ALTER FUNCTION\n",
            "psql:pagila/pagila-schema.sql:241: ERROR:  relation \"customer_customer_id_seq\" already exists\n",
            "ALTER TABLE\n",
            "SET\n",
            "SET\n",
            "psql:pagila/pagila-schema.sql:265: ERROR:  relation \"customer\" already exists\n",
            "ALTER TABLE\n",
            "psql:pagila/pagila-schema.sql:329: ERROR:  function \"rewards_report\" already exists with same argument types\n",
            "ALTER FUNCTION\n",
            "psql:pagila/pagila-schema.sql:341: ERROR:  function \"group_concat\" already exists with same argument types\n",
            "ALTER AGGREGATE\n",
            "psql:pagila/pagila-schema.sql:355: ERROR:  relation \"actor_actor_id_seq\" already exists\n",
            "ALTER TABLE\n",
            "psql:pagila/pagila-schema.sql:369: ERROR:  relation \"actor\" already exists\n",
            "ALTER TABLE\n",
            "psql:pagila/pagila-schema.sql:383: ERROR:  relation \"category_category_id_seq\" already exists\n",
            "ALTER TABLE\n",
            "psql:pagila/pagila-schema.sql:396: ERROR:  relation \"category\" already exists\n",
            "ALTER TABLE\n",
            "psql:pagila/pagila-schema.sql:410: ERROR:  relation \"film_film_id_seq\" already exists\n",
            "ALTER TABLE\n",
            "psql:pagila/pagila-schema.sql:434: ERROR:  relation \"film\" already exists\n",
            "ALTER TABLE\n",
            "psql:pagila/pagila-schema.sql:447: ERROR:  relation \"film_actor\" already exists\n",
            "ALTER TABLE\n",
            "psql:pagila/pagila-schema.sql:460: ERROR:  relation \"film_category\" already exists\n",
            "ALTER TABLE\n",
            "psql:pagila/pagila-schema.sql:483: ERROR:  relation \"actor_info\" already exists\n",
            "ALTER TABLE\n",
            "psql:pagila/pagila-schema.sql:497: ERROR:  relation \"address_address_id_seq\" already exists\n",
            "ALTER TABLE\n",
            "psql:pagila/pagila-schema.sql:515: ERROR:  relation \"address\" already exists\n",
            "ALTER TABLE\n",
            "psql:pagila/pagila-schema.sql:529: ERROR:  relation \"city_city_id_seq\" already exists\n",
            "ALTER TABLE\n",
            "psql:pagila/pagila-schema.sql:543: ERROR:  relation \"city\" already exists\n",
            "ALTER TABLE\n",
            "psql:pagila/pagila-schema.sql:557: ERROR:  relation \"country_country_id_seq\" already exists\n",
            "ALTER TABLE\n",
            "psql:pagila/pagila-schema.sql:570: ERROR:  relation \"country\" already exists\n",
            "ALTER TABLE\n",
            "psql:pagila/pagila-schema.sql:595: ERROR:  relation \"customer_list\" already exists\n",
            "ALTER TABLE\n",
            "psql:pagila/pagila-schema.sql:618: ERROR:  relation \"film_list\" already exists\n",
            "ALTER TABLE\n",
            "psql:pagila/pagila-schema.sql:632: ERROR:  relation \"inventory_inventory_id_seq\" already exists\n",
            "ALTER TABLE\n",
            "psql:pagila/pagila-schema.sql:646: ERROR:  relation \"inventory\" already exists\n",
            "ALTER TABLE\n",
            "psql:pagila/pagila-schema.sql:660: ERROR:  relation \"language_language_id_seq\" already exists\n",
            "ALTER TABLE\n",
            "psql:pagila/pagila-schema.sql:673: ERROR:  relation \"language\" already exists\n",
            "ALTER TABLE\n",
            "psql:pagila/pagila-schema.sql:696: ERROR:  relation \"nicer_but_slower_film_list\" already exists\n",
            "ALTER TABLE\n",
            "psql:pagila/pagila-schema.sql:710: ERROR:  relation \"payment_payment_id_seq\" already exists\n",
            "ALTER TABLE\n",
            "psql:pagila/pagila-schema.sql:727: ERROR:  relation \"payment\" already exists\n",
            "ALTER TABLE\n",
            "psql:pagila/pagila-schema.sql:743: ERROR:  relation \"payment_p2020_01\" already exists\n",
            "psql:pagila/pagila-schema.sql:744: ERROR:  \"payment_p2020_01\" is already a partition\n",
            "ALTER TABLE\n",
            "psql:pagila/pagila-schema.sql:760: ERROR:  relation \"payment_p2020_02\" already exists\n",
            "psql:pagila/pagila-schema.sql:761: ERROR:  \"payment_p2020_02\" is already a partition\n",
            "ALTER TABLE\n",
            "psql:pagila/pagila-schema.sql:777: ERROR:  relation \"payment_p2020_03\" already exists\n",
            "psql:pagila/pagila-schema.sql:778: ERROR:  \"payment_p2020_03\" is already a partition\n",
            "ALTER TABLE\n",
            "psql:pagila/pagila-schema.sql:794: ERROR:  relation \"payment_p2020_04\" already exists\n",
            "psql:pagila/pagila-schema.sql:795: ERROR:  \"payment_p2020_04\" is already a partition\n",
            "ALTER TABLE\n",
            "psql:pagila/pagila-schema.sql:811: ERROR:  relation \"payment_p2020_05\" already exists\n",
            "psql:pagila/pagila-schema.sql:812: ERROR:  \"payment_p2020_05\" is already a partition\n",
            "ALTER TABLE\n",
            "psql:pagila/pagila-schema.sql:828: ERROR:  relation \"payment_p2020_06\" already exists\n",
            "psql:pagila/pagila-schema.sql:829: ERROR:  \"payment_p2020_06\" is already a partition\n",
            "ALTER TABLE\n",
            "psql:pagila/pagila-schema.sql:843: ERROR:  relation \"rental_rental_id_seq\" already exists\n",
            "ALTER TABLE\n",
            "psql:pagila/pagila-schema.sql:860: ERROR:  relation \"rental\" already exists\n",
            "ALTER TABLE\n",
            "psql:pagila/pagila-schema.sql:879: ERROR:  relation \"sales_by_film_category\" already exists\n",
            "ALTER TABLE\n",
            "psql:pagila/pagila-schema.sql:893: ERROR:  relation \"staff_staff_id_seq\" already exists\n",
            "ALTER TABLE\n",
            "psql:pagila/pagila-schema.sql:914: ERROR:  relation \"staff\" already exists\n",
            "ALTER TABLE\n",
            "psql:pagila/pagila-schema.sql:928: ERROR:  relation \"store_store_id_seq\" already exists\n",
            "ALTER TABLE\n",
            "psql:pagila/pagila-schema.sql:942: ERROR:  relation \"store\" already exists\n",
            "ALTER TABLE\n",
            "psql:pagila/pagila-schema.sql:964: ERROR:  relation \"sales_by_store\" already exists\n",
            "ALTER TABLE\n",
            "psql:pagila/pagila-schema.sql:985: ERROR:  relation \"staff_list\" already exists\n",
            "ALTER TABLE\n",
            "psql:pagila/pagila-schema.sql:995: ERROR:  multiple primary keys for table \"actor\" are not allowed\n",
            "psql:pagila/pagila-schema.sql:1003: ERROR:  multiple primary keys for table \"address\" are not allowed\n",
            "psql:pagila/pagila-schema.sql:1011: ERROR:  multiple primary keys for table \"category\" are not allowed\n",
            "psql:pagila/pagila-schema.sql:1019: ERROR:  multiple primary keys for table \"city\" are not allowed\n",
            "psql:pagila/pagila-schema.sql:1027: ERROR:  multiple primary keys for table \"country\" are not allowed\n",
            "psql:pagila/pagila-schema.sql:1035: ERROR:  multiple primary keys for table \"customer\" are not allowed\n",
            "psql:pagila/pagila-schema.sql:1043: ERROR:  multiple primary keys for table \"film_actor\" are not allowed\n",
            "psql:pagila/pagila-schema.sql:1051: ERROR:  multiple primary keys for table \"film_category\" are not allowed\n",
            "psql:pagila/pagila-schema.sql:1059: ERROR:  multiple primary keys for table \"film\" are not allowed\n",
            "psql:pagila/pagila-schema.sql:1067: ERROR:  multiple primary keys for table \"inventory\" are not allowed\n",
            "psql:pagila/pagila-schema.sql:1075: ERROR:  multiple primary keys for table \"language\" are not allowed\n",
            "psql:pagila/pagila-schema.sql:1083: ERROR:  multiple primary keys for table \"rental\" are not allowed\n",
            "psql:pagila/pagila-schema.sql:1091: ERROR:  multiple primary keys for table \"staff\" are not allowed\n",
            "psql:pagila/pagila-schema.sql:1099: ERROR:  multiple primary keys for table \"store\" are not allowed\n",
            "psql:pagila/pagila-schema.sql:1106: ERROR:  relation \"film_fulltext_idx\" already exists\n",
            "psql:pagila/pagila-schema.sql:1113: ERROR:  relation \"idx_actor_last_name\" already exists\n",
            "psql:pagila/pagila-schema.sql:1120: ERROR:  relation \"idx_fk_address_id\" already exists\n",
            "psql:pagila/pagila-schema.sql:1127: ERROR:  relation \"idx_fk_city_id\" already exists\n",
            "psql:pagila/pagila-schema.sql:1134: ERROR:  relation \"idx_fk_country_id\" already exists\n",
            "psql:pagila/pagila-schema.sql:1141: ERROR:  relation \"idx_fk_customer_id\" already exists\n",
            "psql:pagila/pagila-schema.sql:1148: ERROR:  relation \"idx_fk_film_id\" already exists\n",
            "psql:pagila/pagila-schema.sql:1155: ERROR:  relation \"idx_fk_inventory_id\" already exists\n",
            "psql:pagila/pagila-schema.sql:1162: ERROR:  relation \"idx_fk_language_id\" already exists\n",
            "psql:pagila/pagila-schema.sql:1169: ERROR:  relation \"idx_fk_original_language_id\" already exists\n",
            "psql:pagila/pagila-schema.sql:1176: ERROR:  relation \"idx_fk_payment_p2020_01_customer_id\" already exists\n",
            "psql:pagila/pagila-schema.sql:1183: ERROR:  relation \"idx_fk_staff_id\" already exists\n",
            "psql:pagila/pagila-schema.sql:1190: ERROR:  relation \"idx_fk_payment_p2020_01_staff_id\" already exists\n",
            "psql:pagila/pagila-schema.sql:1197: ERROR:  relation \"idx_fk_payment_p2020_02_customer_id\" already exists\n",
            "psql:pagila/pagila-schema.sql:1204: ERROR:  relation \"idx_fk_payment_p2020_02_staff_id\" already exists\n",
            "psql:pagila/pagila-schema.sql:1211: ERROR:  relation \"idx_fk_payment_p2020_03_customer_id\" already exists\n",
            "psql:pagila/pagila-schema.sql:1218: ERROR:  relation \"idx_fk_payment_p2020_03_staff_id\" already exists\n",
            "psql:pagila/pagila-schema.sql:1225: ERROR:  relation \"idx_fk_payment_p2020_04_customer_id\" already exists\n",
            "psql:pagila/pagila-schema.sql:1232: ERROR:  relation \"idx_fk_payment_p2020_04_staff_id\" already exists\n",
            "psql:pagila/pagila-schema.sql:1239: ERROR:  relation \"idx_fk_payment_p2020_05_customer_id\" already exists\n",
            "psql:pagila/pagila-schema.sql:1246: ERROR:  relation \"idx_fk_payment_p2020_05_staff_id\" already exists\n",
            "psql:pagila/pagila-schema.sql:1253: ERROR:  relation \"idx_fk_payment_p2020_06_customer_id\" already exists\n",
            "psql:pagila/pagila-schema.sql:1260: ERROR:  relation \"idx_fk_payment_p2020_06_staff_id\" already exists\n",
            "psql:pagila/pagila-schema.sql:1267: ERROR:  relation \"idx_fk_store_id\" already exists\n",
            "psql:pagila/pagila-schema.sql:1274: ERROR:  relation \"idx_last_name\" already exists\n",
            "psql:pagila/pagila-schema.sql:1281: ERROR:  relation \"idx_store_id_film_id\" already exists\n",
            "psql:pagila/pagila-schema.sql:1288: ERROR:  relation \"idx_title\" already exists\n",
            "psql:pagila/pagila-schema.sql:1295: ERROR:  relation \"idx_unq_manager_staff_id\" already exists\n",
            "psql:pagila/pagila-schema.sql:1302: ERROR:  relation \"idx_unq_rental_rental_date_inventory_id_customer_id\" already exists\n",
            "psql:pagila/pagila-schema.sql:1309: ERROR:  relation \"payment_p2020_01_customer_id_idx\" already exists\n",
            "psql:pagila/pagila-schema.sql:1316: ERROR:  relation \"payment_p2020_02_customer_id_idx\" already exists\n",
            "psql:pagila/pagila-schema.sql:1323: ERROR:  relation \"payment_p2020_03_customer_id_idx\" already exists\n",
            "psql:pagila/pagila-schema.sql:1330: ERROR:  relation \"payment_p2020_04_customer_id_idx\" already exists\n",
            "psql:pagila/pagila-schema.sql:1337: ERROR:  relation \"payment_p2020_05_customer_id_idx\" already exists\n",
            "psql:pagila/pagila-schema.sql:1344: ERROR:  relation \"payment_p2020_06_customer_id_idx\" already exists\n",
            "ALTER INDEX\n",
            "ALTER INDEX\n",
            "ALTER INDEX\n",
            "ALTER INDEX\n",
            "ALTER INDEX\n",
            "ALTER INDEX\n",
            "ALTER INDEX\n",
            "ALTER INDEX\n",
            "ALTER INDEX\n",
            "ALTER INDEX\n",
            "ALTER INDEX\n",
            "ALTER INDEX\n",
            "psql:pagila/pagila-schema.sql:1435: ERROR:  trigger \"film_fulltext_trigger\" for relation \"film\" already exists\n",
            "psql:pagila/pagila-schema.sql:1442: ERROR:  trigger \"last_updated\" for relation \"actor\" already exists\n",
            "psql:pagila/pagila-schema.sql:1449: ERROR:  trigger \"last_updated\" for relation \"address\" already exists\n",
            "psql:pagila/pagila-schema.sql:1456: ERROR:  trigger \"last_updated\" for relation \"category\" already exists\n",
            "psql:pagila/pagila-schema.sql:1463: ERROR:  trigger \"last_updated\" for relation \"city\" already exists\n",
            "psql:pagila/pagila-schema.sql:1470: ERROR:  trigger \"last_updated\" for relation \"country\" already exists\n",
            "psql:pagila/pagila-schema.sql:1477: ERROR:  trigger \"last_updated\" for relation \"customer\" already exists\n",
            "psql:pagila/pagila-schema.sql:1484: ERROR:  trigger \"last_updated\" for relation \"film\" already exists\n",
            "psql:pagila/pagila-schema.sql:1491: ERROR:  trigger \"last_updated\" for relation \"film_actor\" already exists\n",
            "psql:pagila/pagila-schema.sql:1498: ERROR:  trigger \"last_updated\" for relation \"film_category\" already exists\n",
            "psql:pagila/pagila-schema.sql:1505: ERROR:  trigger \"last_updated\" for relation \"inventory\" already exists\n",
            "psql:pagila/pagila-schema.sql:1512: ERROR:  trigger \"last_updated\" for relation \"language\" already exists\n",
            "psql:pagila/pagila-schema.sql:1519: ERROR:  trigger \"last_updated\" for relation \"rental\" already exists\n",
            "psql:pagila/pagila-schema.sql:1526: ERROR:  trigger \"last_updated\" for relation \"staff\" already exists\n",
            "psql:pagila/pagila-schema.sql:1533: ERROR:  trigger \"last_updated\" for relation \"store\" already exists\n",
            "psql:pagila/pagila-schema.sql:1541: ERROR:  constraint \"address_city_id_fkey\" for relation \"address\" already exists\n",
            "psql:pagila/pagila-schema.sql:1549: ERROR:  constraint \"city_country_id_fkey\" for relation \"city\" already exists\n",
            "psql:pagila/pagila-schema.sql:1557: ERROR:  constraint \"customer_address_id_fkey\" for relation \"customer\" already exists\n",
            "psql:pagila/pagila-schema.sql:1565: ERROR:  constraint \"customer_store_id_fkey\" for relation \"customer\" already exists\n",
            "psql:pagila/pagila-schema.sql:1573: ERROR:  constraint \"film_actor_actor_id_fkey\" for relation \"film_actor\" already exists\n",
            "psql:pagila/pagila-schema.sql:1581: ERROR:  constraint \"film_actor_film_id_fkey\" for relation \"film_actor\" already exists\n",
            "psql:pagila/pagila-schema.sql:1589: ERROR:  constraint \"film_category_category_id_fkey\" for relation \"film_category\" already exists\n",
            "psql:pagila/pagila-schema.sql:1597: ERROR:  constraint \"film_category_film_id_fkey\" for relation \"film_category\" already exists\n",
            "psql:pagila/pagila-schema.sql:1605: ERROR:  constraint \"film_language_id_fkey\" for relation \"film\" already exists\n",
            "psql:pagila/pagila-schema.sql:1613: ERROR:  constraint \"film_original_language_id_fkey\" for relation \"film\" already exists\n",
            "psql:pagila/pagila-schema.sql:1621: ERROR:  constraint \"inventory_film_id_fkey\" for relation \"inventory\" already exists\n",
            "psql:pagila/pagila-schema.sql:1629: ERROR:  constraint \"inventory_store_id_fkey\" for relation \"inventory\" already exists\n",
            "psql:pagila/pagila-schema.sql:1637: ERROR:  constraint \"payment_p2020_01_customer_id_fkey\" for relation \"payment_p2020_01\" already exists\n",
            "psql:pagila/pagila-schema.sql:1645: ERROR:  constraint \"payment_p2020_01_rental_id_fkey\" for relation \"payment_p2020_01\" already exists\n",
            "psql:pagila/pagila-schema.sql:1653: ERROR:  constraint \"payment_p2020_01_staff_id_fkey\" for relation \"payment_p2020_01\" already exists\n",
            "psql:pagila/pagila-schema.sql:1661: ERROR:  constraint \"payment_p2020_02_customer_id_fkey\" for relation \"payment_p2020_02\" already exists\n",
            "psql:pagila/pagila-schema.sql:1669: ERROR:  constraint \"payment_p2020_02_rental_id_fkey\" for relation \"payment_p2020_02\" already exists\n",
            "psql:pagila/pagila-schema.sql:1677: ERROR:  constraint \"payment_p2020_02_staff_id_fkey\" for relation \"payment_p2020_02\" already exists\n",
            "psql:pagila/pagila-schema.sql:1685: ERROR:  constraint \"payment_p2020_03_customer_id_fkey\" for relation \"payment_p2020_03\" already exists\n",
            "psql:pagila/pagila-schema.sql:1693: ERROR:  constraint \"payment_p2020_03_rental_id_fkey\" for relation \"payment_p2020_03\" already exists\n",
            "psql:pagila/pagila-schema.sql:1701: ERROR:  constraint \"payment_p2020_03_staff_id_fkey\" for relation \"payment_p2020_03\" already exists\n",
            "psql:pagila/pagila-schema.sql:1709: ERROR:  constraint \"payment_p2020_04_customer_id_fkey\" for relation \"payment_p2020_04\" already exists\n",
            "psql:pagila/pagila-schema.sql:1717: ERROR:  constraint \"payment_p2020_04_rental_id_fkey\" for relation \"payment_p2020_04\" already exists\n",
            "psql:pagila/pagila-schema.sql:1725: ERROR:  constraint \"payment_p2020_04_staff_id_fkey\" for relation \"payment_p2020_04\" already exists\n",
            "psql:pagila/pagila-schema.sql:1733: ERROR:  constraint \"payment_p2020_05_customer_id_fkey\" for relation \"payment_p2020_05\" already exists\n",
            "psql:pagila/pagila-schema.sql:1741: ERROR:  constraint \"payment_p2020_05_rental_id_fkey\" for relation \"payment_p2020_05\" already exists\n",
            "psql:pagila/pagila-schema.sql:1749: ERROR:  constraint \"payment_p2020_05_staff_id_fkey\" for relation \"payment_p2020_05\" already exists\n",
            "psql:pagila/pagila-schema.sql:1757: ERROR:  constraint \"payment_p2020_06_customer_id_fkey\" for relation \"payment_p2020_06\" already exists\n",
            "psql:pagila/pagila-schema.sql:1765: ERROR:  constraint \"payment_p2020_06_rental_id_fkey\" for relation \"payment_p2020_06\" already exists\n",
            "psql:pagila/pagila-schema.sql:1773: ERROR:  constraint \"payment_p2020_06_staff_id_fkey\" for relation \"payment_p2020_06\" already exists\n",
            "psql:pagila/pagila-schema.sql:1781: ERROR:  constraint \"rental_customer_id_fkey\" for relation \"rental\" already exists\n",
            "psql:pagila/pagila-schema.sql:1789: ERROR:  constraint \"rental_inventory_id_fkey\" for relation \"rental\" already exists\n",
            "psql:pagila/pagila-schema.sql:1797: ERROR:  constraint \"rental_staff_id_fkey\" for relation \"rental\" already exists\n",
            "psql:pagila/pagila-schema.sql:1805: ERROR:  constraint \"staff_address_id_fkey\" for relation \"staff\" already exists\n",
            "psql:pagila/pagila-schema.sql:1813: ERROR:  constraint \"staff_store_id_fkey\" for relation \"staff\" already exists\n",
            "psql:pagila/pagila-schema.sql:1821: ERROR:  constraint \"store_address_id_fkey\" for relation \"store\" already exists\n"
          ]
        }
      ],
      "source": [
        "!psql -h localhost -U postgres -d pagila -f \"pagila/pagila-schema.sql\""
      ]
    },
    {
      "cell_type": "code",
      "execution_count": null,
      "metadata": {
        "colab": {
          "base_uri": "https://localhost:8080/"
        },
        "id": "8zpqaYNZPABo",
        "outputId": "35159544-0887-4f7f-dbf0-bbb44f4a9391",
        "collapsed": true
      },
      "outputs": [
        {
          "output_type": "stream",
          "name": "stdout",
          "text": [
            "SET\n",
            "SET\n",
            "SET\n",
            "SET\n",
            "SET\n",
            " set_config \n",
            "------------\n",
            " \n",
            "(1 row)\n",
            "\n",
            "SET\n",
            "SET\n",
            "SET\n",
            "SET\n",
            "psql:pagila/pagila-data.sql:224: ERROR:  duplicate key value violates unique constraint \"actor_pkey\"\n",
            "DETAIL:  Key (actor_id)=(1) already exists.\n",
            "CONTEXT:  COPY actor, line 1\n",
            "psql:pagila/pagila-data.sql:341: ERROR:  duplicate key value violates unique constraint \"country_pkey\"\n",
            "DETAIL:  Key (country_id)=(1) already exists.\n",
            "CONTEXT:  COPY country, line 1\n",
            "psql:pagila/pagila-data.sql:949: ERROR:  duplicate key value violates unique constraint \"city_pkey\"\n",
            "DETAIL:  Key (city_id)=(1) already exists.\n",
            "CONTEXT:  COPY city, line 1\n",
            "psql:pagila/pagila-data.sql:1560: ERROR:  duplicate key value violates unique constraint \"address_pkey\"\n",
            "DETAIL:  Key (address_id)=(1) already exists.\n",
            "CONTEXT:  COPY address, line 1\n",
            "psql:pagila/pagila-data.sql:1584: ERROR:  duplicate key value violates unique constraint \"category_pkey\"\n",
            "DETAIL:  Key (category_id)=(1) already exists.\n",
            "CONTEXT:  COPY category, line 1\n",
            "psql:pagila/pagila-data.sql:1594: ERROR:  duplicate key value violates unique constraint \"store_pkey\"\n",
            "DETAIL:  Key (store_id)=(1) already exists.\n",
            "CONTEXT:  COPY store, line 1\n",
            "psql:pagila/pagila-data.sql:2201: ERROR:  duplicate key value violates unique constraint \"customer_pkey\"\n",
            "DETAIL:  Key (customer_id)=(1) already exists.\n",
            "CONTEXT:  COPY customer, line 1\n",
            "psql:pagila/pagila-data.sql:2215: ERROR:  duplicate key value violates unique constraint \"language_pkey\"\n",
            "DETAIL:  Key (language_id)=(1) already exists.\n",
            "CONTEXT:  COPY language, line 1\n",
            "psql:pagila/pagila-data.sql:3223: ERROR:  duplicate key value violates unique constraint \"film_pkey\"\n",
            "DETAIL:  Key (film_id)=(1) already exists.\n",
            "CONTEXT:  COPY film, line 1: \"1\tACADEMY DINOSAUR\tA Epic Drama of a Feminist And a Mad Scientist who must Battle a Teacher in The C...\"\n",
            "psql:pagila/pagila-data.sql:8693: ERROR:  duplicate key value violates unique constraint \"film_actor_pkey\"\n",
            "DETAIL:  Key (actor_id, film_id)=(1, 1) already exists.\n",
            "CONTEXT:  COPY film_actor, line 1\n",
            "psql:pagila/pagila-data.sql:9701: ERROR:  duplicate key value violates unique constraint \"film_category_pkey\"\n",
            "DETAIL:  Key (film_id, category_id)=(1, 6) already exists.\n",
            "CONTEXT:  COPY film_category, line 1\n",
            "psql:pagila/pagila-data.sql:14290: ERROR:  duplicate key value violates unique constraint \"inventory_pkey\"\n",
            "DETAIL:  Key (inventory_id)=(1) already exists.\n",
            "CONTEXT:  COPY inventory, line 1\n",
            "psql:pagila/pagila-data.sql:14300: ERROR:  duplicate key value violates unique constraint \"staff_pkey\"\n",
            "DETAIL:  Key (staff_id)=(1) already exists.\n",
            "CONTEXT:  COPY staff, line 1\n",
            "psql:pagila/pagila-data.sql:30352: ERROR:  duplicate key value violates unique constraint \"rental_pkey\"\n",
            "DETAIL:  Key (rental_id)=(2) already exists.\n",
            "CONTEXT:  COPY rental, line 1\n",
            "COPY 1157\n",
            "COPY 2312\n",
            "COPY 5644\n",
            "COPY 6754\n",
            "COPY 182\n",
            "COPY 0\n",
            " setval \n",
            "--------\n",
            "    200\n",
            "(1 row)\n",
            "\n",
            " setval \n",
            "--------\n",
            "    605\n",
            "(1 row)\n",
            "\n",
            " setval \n",
            "--------\n",
            "     16\n",
            "(1 row)\n",
            "\n",
            " setval \n",
            "--------\n",
            "    600\n",
            "(1 row)\n",
            "\n",
            " setval \n",
            "--------\n",
            "    109\n",
            "(1 row)\n",
            "\n",
            " setval \n",
            "--------\n",
            "    599\n",
            "(1 row)\n",
            "\n",
            " setval \n",
            "--------\n",
            "   1000\n",
            "(1 row)\n",
            "\n",
            " setval \n",
            "--------\n",
            "   4581\n",
            "(1 row)\n",
            "\n",
            " setval \n",
            "--------\n",
            "      6\n",
            "(1 row)\n",
            "\n",
            " setval \n",
            "--------\n",
            "  32098\n",
            "(1 row)\n",
            "\n",
            " setval \n",
            "--------\n",
            "  16049\n",
            "(1 row)\n",
            "\n",
            " setval \n",
            "--------\n",
            "      2\n",
            "(1 row)\n",
            "\n",
            " setval \n",
            "--------\n",
            "      2\n",
            "(1 row)\n",
            "\n"
          ]
        }
      ],
      "source": [
        "!psql -h localhost -U postgres -d pagila -f \"pagila/pagila-data.sql\""
      ]
    },
    {
      "cell_type": "markdown",
      "metadata": {
        "id": "9M0a4GiI6yyr"
      },
      "source": [
        "## PySpark Setup\n",
        "\n",
        "Now, let's download what is necessary for initiating jdbc connections, as well as what is required to run PySpark itself."
      ]
    },
    {
      "cell_type": "code",
      "execution_count": null,
      "metadata": {
        "colab": {
          "base_uri": "https://localhost:8080/"
        },
        "id": "bCiCzTg-Jx2Q",
        "outputId": "c61eb089-97b4-4d4d-c9bf-7d4d94abfcc6",
        "collapsed": true
      },
      "outputs": [
        {
          "output_type": "stream",
          "name": "stdout",
          "text": [
            "--2024-10-27 19:00:22--  https://jdbc.postgresql.org/download/postgresql-42.5.0.jar\n",
            "Resolving jdbc.postgresql.org (jdbc.postgresql.org)... 72.32.157.228, 2001:4800:3e1:1::228\n",
            "Connecting to jdbc.postgresql.org (jdbc.postgresql.org)|72.32.157.228|:443... connected.\n",
            "HTTP request sent, awaiting response... 200 OK\n",
            "Length: 1046274 (1022K) [application/java-archive]\n",
            "Saving to: ‘postgresql-42.5.0.jar.1’\n",
            "\n",
            "postgresql-42.5.0.j 100%[===================>]   1022K  1.10MB/s    in 0.9s    \n",
            "\n",
            "2024-10-27 19:00:24 (1.10 MB/s) - ‘postgresql-42.5.0.jar.1’ saved [1046274/1046274]\n",
            "\n"
          ]
        }
      ],
      "source": [
        "# https://stackoverflow.com/questions/34948296/using-pyspark-to-connect-to-postgresql\n",
        "!wget https://jdbc.postgresql.org/download/postgresql-42.5.0.jar"
      ]
    },
    {
      "cell_type": "code",
      "execution_count": null,
      "metadata": {
        "id": "2BQsxrwZBhWc"
      },
      "outputs": [],
      "source": [
        "import os\n",
        "import pandas as pd\n",
        "from sklearn.preprocessing import LabelEncoder\n",
        "from sklearn.model_selection import train_test_split\n",
        "import numpy as np\n",
        "\n",
        "%config Completer.use_jedi = False\n",
        "\n",
        "SPARKVERSION='3.2.1'\n",
        "HADOOPVERSION='3.2'\n",
        "pwd=os.getcwd()\n",
        "\n",
        "os.environ[\"JAVA_HOME\"] = \"/usr/lib/jvm/java-8-openjdk-amd64\"\n",
        "os.environ[\"SPARK_HOME\"] = f\"{pwd}/spark-{SPARKVERSION}-bin-hadoop{HADOOPVERSION}\"\n",
        "\n",
        "# print(os.environ['SPARK_HOME'])\n"
      ]
    },
    {
      "cell_type": "code",
      "execution_count": null,
      "metadata": {
        "colab": {
          "base_uri": "https://localhost:8080/"
        },
        "id": "1owkTgHVBuix",
        "outputId": "32f65508-2f5b-4b8d-8119-667abd2e1f69",
        "collapsed": true
      },
      "outputs": [
        {
          "output_type": "stream",
          "name": "stdout",
          "text": [
            "--2024-10-27 19:00:50--  https://archive.apache.org/dist/spark/spark-3.2.1/spark-3.2.1-bin-hadoop3.2.tgz\n",
            "Resolving archive.apache.org (archive.apache.org)... 65.108.204.189, 2a01:4f9:1a:a084::2\n",
            "Connecting to archive.apache.org (archive.apache.org)|65.108.204.189|:443... connected.\n",
            "HTTP request sent, awaiting response... 200 OK\n",
            "Length: 300971569 (287M) [application/x-gzip]\n",
            "Saving to: ‘spark-3.2.1-bin-hadoop3.2.tgz.1’\n",
            "\n",
            "spark-3.2.1-bin-had 100%[===================>] 287.03M  13.1MB/s    in 23s     \n",
            "\n",
            "2024-10-27 19:01:14 (12.3 MB/s) - ‘spark-3.2.1-bin-hadoop3.2.tgz.1’ saved [300971569/300971569]\n",
            "\n"
          ]
        }
      ],
      "source": [
        "!sudo apt-get install openjdk-8-jdk-headless -qq > /dev/null\n",
        "!wget https://archive.apache.org/dist/spark/spark-{SPARKVERSION}/spark-{SPARKVERSION}-bin-hadoop{HADOOPVERSION}.tgz\n",
        "!tar xf spark-{SPARKVERSION}-bin-hadoop{HADOOPVERSION}.tgz"
      ]
    },
    {
      "cell_type": "code",
      "execution_count": null,
      "metadata": {
        "id": "Ighjc_WdUNgC"
      },
      "outputs": [],
      "source": [
        "!cp postgresql-42.5.0.jar spark-{SPARKVERSION}-bin-hadoop{HADOOPVERSION}/jars"
      ]
    },
    {
      "cell_type": "code",
      "execution_count": null,
      "metadata": {
        "colab": {
          "base_uri": "https://localhost:8080/"
        },
        "id": "gCIQhdSYC5uh",
        "outputId": "69fd8a00-ae84-4dc6-f0f0-c8f7af382101"
      },
      "outputs": [
        {
          "output_type": "stream",
          "name": "stdout",
          "text": [
            "Requirement already satisfied: findspark in /usr/local/lib/python3.10/dist-packages (2.0.1)\n"
          ]
        }
      ],
      "source": [
        "!pip install findspark"
      ]
    },
    {
      "cell_type": "code",
      "execution_count": null,
      "metadata": {
        "colab": {
          "base_uri": "https://localhost:8080/"
        },
        "id": "reMhwdxpCz05",
        "outputId": "7e4bc40a-aa75-4a46-fe78-8dd5897bdd55"
      },
      "outputs": [
        {
          "output_type": "stream",
          "name": "stdout",
          "text": [
            "postgresql-42.2.5.jar\n",
            "env: PYARROW_IGNORE_TIMEZONE=1\n"
          ]
        }
      ],
      "source": [
        "import findspark\n",
        "findspark.init()\n",
        "findspark.find()\n",
        "\n",
        "# get a spark session\n",
        "from pyspark.sql import SparkSession\n",
        "spark = SparkSession.builder.config(\"spark.jars\",\n",
        "                                                       \"postgresql-42.2.5.jar\").config(\n",
        "                                                          \"spark.driver.extraClassPath\",\n",
        "                                                          f\"spark-{SPARKVERSION}-bin-hadoop{HADOOPVERSION}/jars\"\n",
        "                                                       ).getOrCreate()\n",
        "print(spark.conf.get('spark.jars'))\n",
        "\n",
        "%env PYARROW_IGNORE_TIMEZONE=1"
      ]
    },
    {
      "cell_type": "markdown",
      "metadata": {
        "id": "IqG_Hk4YXuC7"
      },
      "source": [
        "# Questions\n",
        "\n",
        "### Question 1\n",
        "\n",
        "Using a PySpark dataframe, print the schema of customer table in the pagila PostgreSQL database by utilising a JDBC connection."
      ]
    },
    {
      "cell_type": "code",
      "source": [
        "# Install PostgreSQL\n",
        "!apt-get install postgresql postgresql-contrib -y\n",
        "\n",
        "# Start the PostgreSQL service\n",
        "!service postgresql start\n"
      ],
      "metadata": {
        "colab": {
          "base_uri": "https://localhost:8080/"
        },
        "id": "un_u7hSXa7Sp",
        "outputId": "2b1ba5c4-d63d-4a34-9404-bacc457a5cc4"
      },
      "execution_count": null,
      "outputs": [
        {
          "output_type": "stream",
          "name": "stdout",
          "text": [
            "Reading package lists... Done\n",
            "Building dependency tree... Done\n",
            "Reading state information... Done\n",
            "postgresql is already the newest version (14+238).\n",
            "postgresql-contrib is already the newest version (14+238).\n",
            "0 upgraded, 0 newly installed, 0 to remove and 49 not upgraded.\n",
            " * Starting PostgreSQL 14 database server\n",
            "   ...done.\n"
          ]
        }
      ]
    },
    {
      "cell_type": "code",
      "source": [
        "# Set up the user with a password\n",
        "!sudo -u postgres psql -c \"ALTER USER postgres PASSWORD 'test';\"\n"
      ],
      "metadata": {
        "colab": {
          "base_uri": "https://localhost:8080/"
        },
        "id": "6Vugx_VFa_2t",
        "outputId": "f52194ea-0588-4924-8859-1136233a1ddf"
      },
      "execution_count": null,
      "outputs": [
        {
          "output_type": "stream",
          "name": "stdout",
          "text": [
            "ALTER ROLE\n"
          ]
        }
      ]
    },
    {
      "cell_type": "code",
      "source": [
        "# Create a new database named 'pagila'\n",
        "!sudo -u postgres createdb pagila\n"
      ],
      "metadata": {
        "colab": {
          "base_uri": "https://localhost:8080/"
        },
        "id": "RvcQoQkVbFhQ",
        "outputId": "002d646e-a143-4626-a634-a2dff1e78970"
      },
      "execution_count": null,
      "outputs": [
        {
          "output_type": "stream",
          "name": "stdout",
          "text": [
            "createdb: error: database creation failed: ERROR:  database \"pagila\" already exists\n"
          ]
        }
      ]
    },
    {
      "cell_type": "code",
      "source": [
        "!wget -P /content/ https://jdbc.postgresql.org/download/postgresql-42.2.20.jar\n"
      ],
      "metadata": {
        "colab": {
          "base_uri": "https://localhost:8080/"
        },
        "id": "jmkGy2JZbMju",
        "outputId": "9b161abb-e01d-4240-872f-468a946dd3fa"
      },
      "execution_count": null,
      "outputs": [
        {
          "output_type": "stream",
          "name": "stdout",
          "text": [
            "--2024-10-27 19:21:36--  https://jdbc.postgresql.org/download/postgresql-42.2.20.jar\n",
            "Resolving jdbc.postgresql.org (jdbc.postgresql.org)... 72.32.157.228, 2001:4800:3e1:1::228\n",
            "Connecting to jdbc.postgresql.org (jdbc.postgresql.org)|72.32.157.228|:443... connected.\n",
            "HTTP request sent, awaiting response... 200 OK\n",
            "Length: 1005347 (982K) [application/java-archive]\n",
            "Saving to: ‘/content/postgresql-42.2.20.jar’\n",
            "\n",
            "postgresql-42.2.20. 100%[===================>] 981.78K  1.07MB/s    in 0.9s    \n",
            "\n",
            "2024-10-27 19:21:38 (1.07 MB/s) - ‘/content/postgresql-42.2.20.jar’ saved [1005347/1005347]\n",
            "\n"
          ]
        }
      ]
    },
    {
      "cell_type": "code",
      "execution_count": null,
      "metadata": {
        "id": "EnrQk09jQyaJ",
        "colab": {
          "base_uri": "https://localhost:8080/"
        },
        "outputId": "e30148bc-49c9-49d5-dec7-d8b34afa5131"
      },
      "outputs": [
        {
          "output_type": "stream",
          "name": "stdout",
          "text": [
            "root\n",
            " |-- customer_id: integer (nullable = true)\n",
            " |-- store_id: integer (nullable = true)\n",
            " |-- first_name: string (nullable = true)\n",
            " |-- last_name: string (nullable = true)\n",
            " |-- email: string (nullable = true)\n",
            " |-- address_id: integer (nullable = true)\n",
            " |-- activebool: boolean (nullable = true)\n",
            " |-- create_date: date (nullable = true)\n",
            " |-- last_update: timestamp (nullable = true)\n",
            " |-- active: integer (nullable = true)\n",
            "\n"
          ]
        }
      ],
      "source": [
        "from pyspark.sql import SparkSession\n",
        "\n",
        "# Initialize SparkSession\n",
        "spark = SparkSession.builder \\\n",
        "    .appName(\"PostgreSQL Connection\") \\\n",
        "    .config(\"spark.jars\", \"/content/postgresql-42.2.20.jar\") \\\n",
        "    .getOrCreate()\n",
        "\n",
        "# Connection details\n",
        "jdbc_url = \"jdbc:postgresql://localhost:5432/pagila\"  # Replace 'pagila' with your database name if different\n",
        "properties = {\n",
        "    \"user\": \"postgres\",  # Replace 'postgres' with your username if different\n",
        "    \"password\": \"test\",  # Use the password set with ALTER USER\n",
        "    \"driver\": \"org.postgresql.Driver\"\n",
        "}\n",
        "\n",
        "# Load a table as a DataFrame\n",
        "customer_df = spark.read.jdbc(url=jdbc_url, table=\"customer\", properties=properties)\n",
        "\n",
        "# Print schema to confirm connection\n",
        "customer_df.printSchema()\n",
        "\n"
      ]
    },
    {
      "cell_type": "markdown",
      "metadata": {
        "id": "tXhnjaylCFI1"
      },
      "source": [
        "### Question 2\n",
        "\n",
        "Use the Spark SQL API to query the customer table, compute the number of unique email addresses in that table and print the result in the notebook."
      ]
    },
    {
      "cell_type": "code",
      "execution_count": null,
      "metadata": {
        "id": "xTGwAFhYpanl",
        "colab": {
          "base_uri": "https://localhost:8080/"
        },
        "outputId": "0bb2405c-b29c-41cb-c9e8-6857ec9ffcec"
      },
      "outputs": [
        {
          "output_type": "stream",
          "name": "stdout",
          "text": [
            "+-------------+\n",
            "|unique_emails|\n",
            "+-------------+\n",
            "|          599|\n",
            "+-------------+\n",
            "\n"
          ]
        }
      ],
      "source": [
        "# Register the DataFrame as a SQL temporary view\n",
        "customer_df.createOrReplaceTempView(\"customer\")\n",
        "\n",
        "# Count unique emails using Spark SQL\n",
        "unique_emails_sql = spark.sql(\"SELECT COUNT(DISTINCT email) AS unique_emails FROM customer\")\n",
        "unique_emails_sql.show()"
      ]
    },
    {
      "cell_type": "markdown",
      "metadata": {
        "id": "bg7To_5dCRGb"
      },
      "source": [
        "### Question 3\n",
        "\n",
        "Repeat this calculation using only the Dataframe API and print the result."
      ]
    },
    {
      "cell_type": "code",
      "execution_count": null,
      "metadata": {
        "id": "hTO78anmCa37",
        "colab": {
          "base_uri": "https://localhost:8080/"
        },
        "outputId": "3dbe5d50-694d-43e0-ae4a-3435b9b7041e"
      },
      "outputs": [
        {
          "output_type": "stream",
          "name": "stdout",
          "text": [
            "Unique Email Count: 599\n"
          ]
        }
      ],
      "source": [
        "# Count unique emails using only the DataFrame API\n",
        "unique_email_count = customer_df.select(\"email\").distinct().count()\n",
        "print(f\"Unique Email Count: {unique_email_count}\")"
      ]
    },
    {
      "cell_type": "markdown",
      "metadata": {
        "id": "8IIL4RDSCcn4"
      },
      "source": [
        "### Question 4\n",
        "\n",
        "How many partitions are present in the dataframe resulting from Question 3 (additionally provide the code necessary to determine that)"
      ]
    },
    {
      "cell_type": "code",
      "source": [
        "# Determine the number of partitions in the resulting DataFrame\n",
        "num_partitions = customer_df.rdd.getNumPartitions()\n",
        "print(f\"Number of Partitions: {num_partitions}\")\n"
      ],
      "metadata": {
        "colab": {
          "base_uri": "https://localhost:8080/"
        },
        "id": "eZO1Ruhmd_K4",
        "outputId": "872211ab-62bf-472f-eea4-c42c67d25f84"
      },
      "execution_count": null,
      "outputs": [
        {
          "output_type": "stream",
          "name": "stdout",
          "text": [
            "Number of Partitions: 1\n"
          ]
        }
      ]
    },
    {
      "cell_type": "markdown",
      "metadata": {
        "id": "P_6o4oLIC5SJ"
      },
      "source": [
        "### Question 5\n",
        "\n",
        "Compute the min and max of customer.create_date and print the result (once more using the Spark DataFrame API and not the Spark SQL API)."
      ]
    },
    {
      "cell_type": "code",
      "source": [
        "# Compute min and max of create_date using the DataFrame API\n",
        "date_stats = customer_df.selectExpr(\"min(create_date) as min_date\", \"max(create_date) as max_date\")\n",
        "date_stats.show()\n"
      ],
      "metadata": {
        "colab": {
          "base_uri": "https://localhost:8080/"
        },
        "id": "fZ0jKMPPeeKM",
        "outputId": "32b5ff7e-ec09-4bb1-9c2b-3fe4ce2b6cff"
      },
      "execution_count": null,
      "outputs": [
        {
          "output_type": "stream",
          "name": "stdout",
          "text": [
            "+----------+----------+\n",
            "|  min_date|  max_date|\n",
            "+----------+----------+\n",
            "|2020-02-14|2020-02-14|\n",
            "+----------+----------+\n",
            "\n"
          ]
        }
      ]
    },
    {
      "cell_type": "markdown",
      "metadata": {
        "id": "8vndZmoyC-Ay"
      },
      "source": [
        "### Question 6.1\n",
        "\n",
        "Determine which first names occur more than once:\n",
        "\n",
        "1. using the Spark SQL API (printing the result)"
      ]
    },
    {
      "cell_type": "code",
      "source": [
        "# Register the DataFrame as a SQL temporary view if not done already\n",
        "customer_df.createOrReplaceTempView(\"customer\")\n",
        "\n",
        "# Query to find first names that appear more than once\n",
        "duplicate_first_names_sql = spark.sql(\"\"\"\n",
        "    SELECT first_name, COUNT(*) AS name_count\n",
        "    FROM customer\n",
        "    GROUP BY first_name\n",
        "    HAVING name_count > 1\n",
        "\"\"\")\n",
        "\n",
        "# Show the results\n",
        "duplicate_first_names_sql.show()\n"
      ],
      "metadata": {
        "colab": {
          "base_uri": "https://localhost:8080/"
        },
        "id": "lNIeQ80JfHaP",
        "outputId": "29a370c3-c152-402b-8b7a-38a106e958aa"
      },
      "execution_count": null,
      "outputs": [
        {
          "output_type": "stream",
          "name": "stdout",
          "text": [
            "+----------+----------+\n",
            "|first_name|name_count|\n",
            "+----------+----------+\n",
            "|     TERRY|         2|\n",
            "|    WILLIE|         2|\n",
            "|    MARION|         2|\n",
            "|     KELLY|         2|\n",
            "|    LESLIE|         2|\n",
            "|     JAMIE|         2|\n",
            "|     TRACY|         2|\n",
            "|    JESSIE|         2|\n",
            "+----------+----------+\n",
            "\n"
          ]
        }
      ]
    },
    {
      "cell_type": "markdown",
      "metadata": {
        "id": "d-qGmjBqDErO"
      },
      "source": [
        "### Question 6.2\n",
        "\n",
        "  2. using the Spark Dataframe API (printing the result once more)."
      ]
    },
    {
      "cell_type": "code",
      "source": [
        "# Use DataFrame API to find duplicate first names\n",
        "duplicate_first_names_df = customer_df.groupBy(\"first_name\").count().filter(\"count > 1\")\n",
        "\n",
        "# Show the results\n",
        "duplicate_first_names_df.show()\n"
      ],
      "metadata": {
        "colab": {
          "base_uri": "https://localhost:8080/"
        },
        "id": "n0gICIhFfPIK",
        "outputId": "066f749f-2101-49d5-f59e-da1f354ec62a"
      },
      "execution_count": null,
      "outputs": [
        {
          "output_type": "stream",
          "name": "stdout",
          "text": [
            "+----------+-----+\n",
            "|first_name|count|\n",
            "+----------+-----+\n",
            "|     TERRY|    2|\n",
            "|    WILLIE|    2|\n",
            "|    MARION|    2|\n",
            "|     KELLY|    2|\n",
            "|    LESLIE|    2|\n",
            "|     JAMIE|    2|\n",
            "|     TRACY|    2|\n",
            "|    JESSIE|    2|\n",
            "+----------+-----+\n",
            "\n"
          ]
        }
      ]
    },
    {
      "cell_type": "markdown",
      "metadata": {
        "id": "qA56WFXXDqrm"
      },
      "source": [
        "### Question 7\n",
        "\n",
        "Port the PostgreSQL below to the PySpark DataFrame API and execute the query within Spark (not directly on PostgreSQL):\n",
        "\n",
        "```\n",
        "SELECT\n",
        "   staff.first_name\n",
        "   ,staff.last_name\n",
        "   ,SUM(payment.amount)\n",
        " FROM payment\n",
        "   INNER JOIN staff ON payment.staff_id = staff.staff_id\n",
        " WHERE payment.payment_date BETWEEN '2007-01-01' AND '2007-02-01'\n",
        " GROUP BY\n",
        "   staff.last_name\n",
        "   ,staff.first_name\n",
        " ORDER BY SUM(payment.amount)\n",
        " ;\n",
        "```"
      ]
    },
    {
      "cell_type": "code",
      "source": [
        "# Load the payment and staff tables if not done already\n",
        "payment_df = spark.read.jdbc(url=jdbc_url, table=\"payment\", properties=properties)\n",
        "staff_df = spark.read.jdbc(url=jdbc_url, table=\"staff\", properties=properties)\n",
        "\n",
        "# Perform the join and filter, then aggregate\n",
        "result_df = payment_df.join(staff_df, payment_df.staff_id == staff_df.staff_id) \\\n",
        "    .filter((payment_df.payment_date >= '2007-01-01') & (payment_df.payment_date <= '2007-02-01')) \\\n",
        "    .groupBy(staff_df.first_name, staff_df.last_name) \\\n",
        "    .agg({\"amount\": \"sum\"}) \\\n",
        "    .withColumnRenamed(\"sum(amount)\", \"total_payment\") \\\n",
        "    .orderBy(\"total_payment\")\n",
        "\n",
        "# Show the result\n",
        "result_df.show()\n"
      ],
      "metadata": {
        "colab": {
          "base_uri": "https://localhost:8080/"
        },
        "id": "a3mFB_2bf7mM",
        "outputId": "9634c67b-b56b-4a25-8282-7b9b6fb910bf"
      },
      "execution_count": null,
      "outputs": [
        {
          "output_type": "stream",
          "name": "stdout",
          "text": [
            "+----------+---------+-------------+\n",
            "|first_name|last_name|total_payment|\n",
            "+----------+---------+-------------+\n",
            "+----------+---------+-------------+\n",
            "\n"
          ]
        }
      ]
    },
    {
      "cell_type": "markdown",
      "metadata": {
        "id": "Qqv7FoidJiBJ"
      },
      "source": [
        "### Question 8\n",
        "\n",
        "Are you currently executing commands on a driver node, or a worker? Provide the code you ran to determine that."
      ]
    },
    {
      "cell_type": "code",
      "source": [
        "import socket\n",
        "\n",
        "# Print the hostname to determine if it's a driver or worker node\n",
        "print(f\"Running on node: {socket.gethostname()}\")\n"
      ],
      "metadata": {
        "colab": {
          "base_uri": "https://localhost:8080/"
        },
        "id": "axL3NSnMgocd",
        "outputId": "69c31414-aa71-49b7-a1de-f3b37760f5b5"
      },
      "execution_count": null,
      "outputs": [
        {
          "output_type": "stream",
          "name": "stdout",
          "text": [
            "Running on node: dd36c26f82f0\n"
          ]
        }
      ]
    }
  ],
  "metadata": {
    "colab": {
      "provenance": [],
      "name": "pyspark-postgres-18708064.ipynb",
      "include_colab_link": true
    },
    "kernelspec": {
      "display_name": "Python 3",
      "language": "python",
      "name": "python3"
    },
    "language_info": {
      "codemirror_mode": {
        "name": "ipython",
        "version": 3
      },
      "file_extension": ".py",
      "mimetype": "text/x-python",
      "name": "python",
      "nbconvert_exporter": "python",
      "pygments_lexer": "ipython3",
      "version": "3.8.10"
    }
  },
  "nbformat": 4,
  "nbformat_minor": 0
}